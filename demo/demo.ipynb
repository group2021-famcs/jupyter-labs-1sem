{
 "cells": [
  {
   "cell_type": "markdown",
   "id": "a4ac527e",
   "metadata": {},
   "source": [
    "# Xeus-cling demonstration"
   ]
  },
  {
   "cell_type": "markdown",
   "id": "be222b34",
   "metadata": {},
   "source": [
    "### Что это?\n",
    "\n",
    "Вообще говоря, C++ - компилируемый язык. Это значит, что для запуска кода нужно сохранить этот код в файл, скомпилировать его и запустить получившийся исполняемый файл.\\\n",
    "Но в нескольких первых домашних работах нам удобнее запускать его в режиме [интерпретатора](https://ru.wikipedia.org/wiki/%D0%98%D0%BD%D1%82%D0%B5%D1%80%D0%BF%D1%80%D0%B5%D1%82%D0%B0%D1%82%D0%BE%D1%80). Для этого нам понадобится вот такой интерактивный ноутбук, который вы сейчас используете.\n",
    "\n",
    "\n",
    "Для запуска кода в ячейке нажмите `Shift + Enter`"
   ]
  },
  {
   "cell_type": "code",
   "execution_count": 1,
   "id": "45da2bba",
   "metadata": {},
   "outputs": [],
   "source": [
    "#include \"../labs_common/all.h\"\n",
    "#include <iostream>"
   ]
  },
  {
   "cell_type": "markdown",
   "id": "8990f723",
   "metadata": {},
   "source": [
    "Для ввода и вывода можно использовать стандартные потоки."
   ]
  },
  {
   "cell_type": "code",
   "execution_count": 2,
   "id": "9a627e95",
   "metadata": {},
   "outputs": [
    {
     "name": "stdout",
     "output_type": "stream",
     "text": [
      "5\n"
     ]
    },
    {
     "name": "stderr",
     "output_type": "stream",
     "text": [
      "Some error"
     ]
    },
    {
     "name": "stdout",
     "output_type": "stream",
     "text": [
      "10\n"
     ]
    }
   ],
   "source": [
    "int a;\n",
    "std::cin >> a;\n",
    "std::cerr << \"Some error\";\n",
    "std::cout << a * 2 << std::endl;"
   ]
  },
  {
   "cell_type": "markdown",
   "id": "0986c950",
   "metadata": {},
   "source": [
    "Ещё один вариант вывода результата — пропустить `;` в последней строке. Тогда её результат автоматически отформатируется и выведется на экран."
   ]
  },
  {
   "cell_type": "code",
   "execution_count": 3,
   "id": "5632f5e8",
   "metadata": {},
   "outputs": [
    {
     "data": {
      "text/plain": [
       "8"
      ]
     },
     "execution_count": 3,
     "metadata": {},
     "output_type": "execute_result"
    }
   ],
   "source": [
    "int a = 5;\n",
    "int b = 3;\n",
    "a + b"
   ]
  },
  {
   "cell_type": "code",
   "execution_count": 4,
   "id": "5a686e83",
   "metadata": {},
   "outputs": [
    {
     "data": {
      "text/plain": [
       "{ \"a\", \"b\", \"c\" }"
      ]
     },
     "execution_count": 4,
     "metadata": {},
     "output_type": "execute_result"
    }
   ],
   "source": [
    "std::vector<std::string> v{\"a\", \"b\", \"c\"};\n",
    "v"
   ]
  },
  {
   "cell_type": "markdown",
   "id": "ecd91f0b",
   "metadata": {},
   "source": [
    "Больше примеров, в том числе возможности интерактивного вывода, можно найти [здесь](https://xeus-cling.readthedocs.io/en/latest/)."
   ]
  },
  {
   "cell_type": "markdown",
   "id": "b4df90ad",
   "metadata": {},
   "source": [
    "### Что делать если всё сломалось?"
   ]
  },
  {
   "cell_type": "markdown",
   "id": "bfa0dab2",
   "metadata": {},
   "source": [
    "Такой ноутбук внутри устроен довольно сложно, является экспериментальной технологией и поэтому может иногда вести себя странно. Если вы столкнулись с неожиданным поведением или видите непонятные ошибки, не связанные с вашим кодом, попробуйте всё перезапустить.\\\n",
    "Для этого в верхнем меню нажмите `Kernel -> Restart & Run All`"
   ]
  },
  {
   "cell_type": "markdown",
   "id": "1ed37ae0",
   "metadata": {},
   "source": [
    "Иногда исполнение кода может зависнуть (например, зайти в вечный цикл). Об этом будет свидетельствовать знак `[*]` слева от исполняемой ячейки, а также индикатор \"Kernel Busy\" в правом верхнем углу ![](res/busy.jpg)\n",
    "\n",
    "Чтобы остановить исполнение, нажмите `Kernel -> Interrupt`. Ядро должно снова перейти в состояние \"Idle\": ![](res/idle.jpg)\n",
    "\n",
    "Возможно, после этого также понадобится перезапустить ядро и выполнить всё заново.\n",
    "\n",
    "Попробуйте запустить и остановить следующую ячейку:"
   ]
  },
  {
   "cell_type": "code",
   "execution_count": null,
   "id": "6b7f2d82",
   "metadata": {},
   "outputs": [],
   "source": [
    "while (true) {\n",
    "}"
   ]
  },
  {
   "cell_type": "markdown",
   "id": "e3d8288d",
   "metadata": {},
   "source": [
    "Если ячейка обозначена знаком `[*]`, но индикатор в состоянии \"Kernel Idle\", то, скорее всего, что-то пошло не так, и эта ячейка никогда не выполнится. В таком случае также попробуйте всё перезапустить."
   ]
  },
  {
   "cell_type": "markdown",
   "id": "a5741489",
   "metadata": {},
   "source": [
    "### Что дальше?\n",
    "\n",
    "После заполнения ноутбука внимательно проверьте решение ещё раз. При проверке преподавателем ячейки будут запускаться по порядку, и если часть решения не выполнилась корректно, баллы за неё не будут засчитаны. Поэтому перед сдачей рекомендуется запустить всё заново (`Kernel -> Restart & Run All`).\n",
    "\n",
    "Если вы редактируете ноутбук на https://mybinder.org (вариант по умолчанию), сохраните его себе на компьютер кнопкой <button style=\"line-height: 0px; padding:0.4rem\" class=\"btn btn-default\" aria-label=\"Download\" title=\"Download visible\"><i class=\"fa-download fa\"></i><span class=\"toolbar-btn-label\">Download</span></button> на панели сверху. Скачанный `.ipynb` файл - и есть то, что нужно сдавать на проверку, переименовав в соответствии с указаниями в задании."
   ]
  }
 ],
 "metadata": {
  "kernelspec": {
   "display_name": "C++17",
   "language": "C++17",
   "name": "xcpp17"
  },
  "language_info": {
   "codemirror_mode": "text/x-c++src",
   "file_extension": ".cpp",
   "mimetype": "text/x-c++src",
   "name": "c++",
   "version": "17"
  }
 },
 "nbformat": 4,
 "nbformat_minor": 5
}
